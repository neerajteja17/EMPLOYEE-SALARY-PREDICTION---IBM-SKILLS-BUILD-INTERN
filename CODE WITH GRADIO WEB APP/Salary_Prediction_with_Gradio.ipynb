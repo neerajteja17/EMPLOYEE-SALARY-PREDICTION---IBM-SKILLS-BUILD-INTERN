{
 "cells": [
  {
   "cell_type": "code",
   "execution_count": null,
   "id": "482e9491",
   "metadata": {},
   "outputs": [],
   "source": [
    "import pandas as pd\n",
    "\n",
    "# Load dataset\n",
    "data = pd.read_csv(\"adult.csv\")\n",
    "data.head()"
   ]
  },
  {
   "cell_type": "code",
   "execution_count": null,
   "id": "a0bbebe6",
   "metadata": {},
   "outputs": [],
   "source": [
    "# Clean and preprocess\n",
    "data['workclass'].replace({'?': 'Others'}, inplace=True)\n",
    "data['occupation'].replace({'?': 'Others'}, inplace=True)\n",
    "data = data[data['workclass'] != 'Without-pay']\n",
    "data = data[data['workclass'] != 'Never-worked']\n",
    "\n",
    "# Outlier removal\n",
    "data = data[(data['age'] <= 75) & (data['age'] >= 17)]\n",
    "data = data[(data['educational-num'] <= 16) & (data['educational-num'] >= 5)]\n",
    "data = data.drop(columns=['education'])  # Drop redundant feature\n"
   ]
  },
  {
   "cell_type": "code",
   "execution_count": null,
   "id": "1205999e",
   "metadata": {},
   "outputs": [],
   "source": [
    "from sklearn.preprocessing import LabelEncoder\n",
    "\n",
    "encoder = LabelEncoder()\n",
    "data['workclass'] = encoder.fit_transform(data['workclass'])\n",
    "data['marital-status'] = encoder.fit_transform(data['marital-status'])\n",
    "data['occupation'] = encoder.fit_transform(data['occupation'])\n",
    "data['relationship'] = encoder.fit_transform(data['relationship'])\n",
    "data['race'] = encoder.fit_transform(data['race'])\n",
    "data['gender'] = encoder.fit_transform(data['gender'])\n",
    "data['native-country'] = encoder.fit_transform(data['native-country'])\n"
   ]
  },
  {
   "cell_type": "code",
   "execution_count": null,
   "id": "aaca16d5",
   "metadata": {},
   "outputs": [],
   "source": [
    "from sklearn.model_selection import train_test_split\n",
    "from sklearn.pipeline import Pipeline\n",
    "from sklearn.preprocessing import StandardScaler\n",
    "from sklearn.ensemble import RandomForestClassifier\n",
    "from sklearn.metrics import accuracy_score\n",
    "\n",
    "# Features and target\n",
    "x = data.drop(columns=['income'])\n",
    "y = data['income']\n",
    "\n",
    "X_train, X_test, y_train, y_test = train_test_split(x, y, test_size=0.2, random_state=42)\n",
    "\n",
    "# Train model\n",
    "from sklearn.ensemble import RandomForestClassifier\n",
    "pipe = Pipeline([\n",
    "    ('scaler', StandardScaler()),\n",
    "    ('model', RandomForestClassifier())\n",
    "])\n",
    "pipe.fit(X_train, y_train)\n",
    "\n",
    "# Evaluate\n",
    "y_pred = pipe.predict(X_test)\n",
    "print(\"Accuracy:\", accuracy_score(y_test, y_pred))\n"
   ]
  },
  {
   "cell_type": "code",
   "execution_count": null,
   "id": "c668cb12",
   "metadata": {},
   "outputs": [],
   "source": [
    "import joblib\n",
    "\n",
    "# Save trained pipeline\n",
    "joblib.dump(pipe, 'salary_model.pkl')\n"
   ]
  },
  {
   "cell_type": "code",
   "execution_count": null,
   "id": "82589c7c",
   "metadata": {},
   "outputs": [],
   "source": [
    "import gradio as gr\n",
    "import joblib\n",
    "import numpy as np\n",
    "\n",
    "# Load model\n",
    "model = joblib.load(\"salary_model.pkl\")\n",
    "\n",
    "def predict_salary(age, workclass, fnlwgt, marital_status, occupation,\n",
    "                   relationship, race, gender, capital_gain, capital_loss,\n",
    "                   hours_per_week, native_country, educational_num):\n",
    "    input_data = np.array([[age, workclass, fnlwgt, marital_status, occupation,\n",
    "                            relationship, race, gender, capital_gain, capital_loss,\n",
    "                            hours_per_week, native_country, educational_num]])\n",
    "    prediction = model.predict(input_data)[0]\n",
    "    return \"Income >50K\" if prediction == 1 else \"Income <=50K\"\n",
    "\n",
    "inputs = [\n",
    "    gr.Number(label=\"Age\"),\n",
    "    gr.Number(label=\"Workclass (Encoded)\"),\n",
    "    gr.Number(label=\"FNLWGT\"),\n",
    "    gr.Number(label=\"Marital Status (Encoded)\"),\n",
    "    gr.Number(label=\"Occupation (Encoded)\"),\n",
    "    gr.Number(label=\"Relationship (Encoded)\"),\n",
    "    gr.Number(label=\"Race (Encoded)\"),\n",
    "    gr.Number(label=\"Gender (0=Female, 1=Male)\"),\n",
    "    gr.Number(label=\"Capital Gain\"),\n",
    "    gr.Number(label=\"Capital Loss\"),\n",
    "    gr.Number(label=\"Hours Per Week\"),\n",
    "    gr.Number(label=\"Native Country (Encoded)\"),\n",
    "    gr.Number(label=\"Educational Number\")\n",
    "]\n",
    "\n",
    "gr.Interface(fn=predict_salary,\n",
    "             inputs=inputs,\n",
    "             outputs=gr.Text(label=\"Predicted Income\"),\n",
    "             title=\"Employee Salary Prediction\").launch()\n"
   ]
  }
 ],
 "metadata": {},
 "nbformat": 4,
 "nbformat_minor": 5
}
